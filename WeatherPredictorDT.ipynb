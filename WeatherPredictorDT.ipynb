{
 "cells": [
  {
   "cell_type": "code",
   "execution_count": 88,
   "metadata": {
    "collapsed": true
   },
   "outputs": [],
   "source": [
    "import numpy as np\n",
    "import pandas as pd\n",
    "from matplotlib import pyplot as plt\n",
    "%matplotlib inline"
   ]
  },
  {
   "cell_type": "code",
   "execution_count": 118,
   "metadata": {
    "collapsed": false
   },
   "outputs": [],
   "source": [
    "\"\"\"\n",
    "Implement a decision tree for classification. Let’s imagine we want \n",
    "to predict rain (1) and no-rain (0) for a given day. We have two predictors:\n",
    "\n",
    "    x1 is weather type (0 = partly cloudy, 1 = cloudy, 2 = sunny)\n",
    "    x2 is atmospheric pressure (0 = low, 1 = high)\n",
    "\"\"\"\n",
    "\n",
    "x1 = [0, 1, 1, 2, 2, 2]\n",
    "x2 = [0, 0, 1, 1, 1, 0]\n",
    "\n",
    "y=np.asarray([0,0,0,1,1,0])\n",
    "\n",
    "\n",
    "# a=x1\n",
    "\n",
    "# partition = {c: (a==c).nonzero()[0] for c in np.unique(a)}\n",
    "# print partition\n"
   ]
  },
  {
   "cell_type": "code",
   "execution_count": 119,
   "metadata": {
    "collapsed": true
   },
   "outputs": [],
   "source": [
    "def partition(a):\n",
    "    return {c: (a==c).nonzero()[0] for c in np.unique(a)}"
   ]
  },
  {
   "cell_type": "code",
   "execution_count": 120,
   "metadata": {
    "collapsed": false
   },
   "outputs": [
    {
     "name": "stdout",
     "output_type": "stream",
     "text": [
      "0.918295834054\n"
     ]
    }
   ],
   "source": [
    "\n",
    "def entropy(s):\n",
    "    res = 0\n",
    "    val, counts = np.unique(s, return_counts=True)\n",
    "    #print val,counts\n",
    "    freqs = counts.astype('float')/len(s)\n",
    "    #print freqs\n",
    "    for p in freqs:\n",
    "        if p != 0.0:\n",
    "            res -= p * np.log2(p)\n",
    "    return res\n",
    "\n",
    "en1 = entropy(y)\n",
    "print en1"
   ]
  },
  {
   "cell_type": "code",
   "execution_count": 121,
   "metadata": {
    "collapsed": false
   },
   "outputs": [
    {
     "name": "stdout",
     "output_type": "stream",
     "text": [
      "[[0 0]\n",
      " [1 0]\n",
      " [1 1]\n",
      " [2 1]\n",
      " [2 1]\n",
      " [2 0]]\n",
      "[0 1 1 2 2 2]\n",
      "[0 0 1 1 1 0]\n",
      "0.459147917027\n",
      "(2,) [ 0.45914792  0.45914792]\n"
     ]
    }
   ],
   "source": [
    "\"\"\"Mutual information is the difference between the entropy\n",
    "of the unsplitted set, and the average of the entropy of each split, \n",
    "weighted by the number of elements in the subset.\n",
    "\"\"\"\n",
    "\n",
    "def mutual_information(y, x):\n",
    "    \n",
    "\n",
    "    res = entropy(y)\n",
    "\n",
    "    # We partition x, according to attribute values x_i\n",
    "    val, counts = np.unique(x, return_counts=True)\n",
    "#     print val,counts\n",
    "    freqs = counts.astype('float')/len(x)\n",
    "#     print freqs\n",
    "#     print x[:]\n",
    "    # We calculate a weighted average of the entropy\n",
    "    for p, v in zip(freqs, val):\n",
    "        #print p,v,x\n",
    "        #print x==v\n",
    "        #print y[x==v]\n",
    "        res -= p * entropy(y[x == v]) \n",
    "\n",
    "    return res\n",
    "\"\"\"---------------------------------------------------------------------\"\"\"\n",
    "\n",
    "X = np.array([x1, x2]).T\n",
    "print X\n",
    "\n",
    "for x_attr in X.T:\n",
    "    print x_attr\n",
    "\n",
    "gain = mutual_information(y, [0 ,1 ,1 ,2 ,2,2]) \n",
    "print gain\n",
    "\n",
    "gains=np.array([ mutual_information(y, x_attr) for x_attr in  X.T])\n",
    "print gains.shape,gains\n",
    "\n",
    "\n",
    "# x=[0,1,1,2,2,2]\n",
    "# for v,p in zip([0,1,2],[0.16,0.33,0.5]):\n",
    "#     print v\n",
    "#     print entropy(y[x == v])\n",
    "\n",
    "#y=[0,0,0,1,1,0]"
   ]
  },
  {
   "cell_type": "code",
   "execution_count": 122,
   "metadata": {
    "collapsed": false
   },
   "outputs": [
    {
     "name": "stdout",
     "output_type": "stream",
     "text": [
      "(6,) [0 1 1 2 2 2]\n",
      "{0: array([0]), 1: array([1, 2]), 2: array([3, 4, 5])}\n",
      "(3,) [1 1 0]\n",
      "{0: array([2]), 1: array([0, 1])}\n",
      "{'x_0 = 0': array([0]),\n",
      " 'x_0 = 1': array([0, 0]),\n",
      " 'x_0 = 2': {'x_1 = 0': array([0]), 'x_1 = 1': array([1, 1])}}\n"
     ]
    }
   ],
   "source": [
    "from pprint import pprint\n",
    "\n",
    "def is_pure(s):\n",
    "    return len(set(s)) == 1\n",
    "\n",
    "def recursive_split(x, y):\n",
    "    # If there could be no split, just return the original set\n",
    "    if is_pure(y) or len(y) == 0:\n",
    "        return y\n",
    "\n",
    "    # We get attribute that gives the highest mutual information\n",
    "    gain = np.array([mutual_information(y, x_attr) for x_attr in x.T])\n",
    "    selected_attr = np.argmax(gain)\n",
    "#     print gain\n",
    "#     print selected_attr\n",
    "\n",
    "    # If there's no gain at all, nothing has to be done, just return the original set\n",
    "    if np.all(gain < 1e-6):\n",
    "        return y\n",
    "\n",
    "\n",
    "    # We split using the selected attribute\n",
    "    print x[:, selected_attr].shape,x[:,selected_attr]\n",
    "    sets = partition(x[:, selected_attr])\n",
    "    print sets\n",
    "\n",
    "    res = {}\n",
    "    for k, v in sets.items():\n",
    "        y_subset = y.take(v, axis=0)\n",
    "        x_subset = x.take(v, axis=0)\n",
    "        \n",
    "        res[\"x_%d = %d\" % (selected_attr, k)] = recursive_split(x_subset, y_subset)\n",
    "\n",
    "    return res\n",
    "\n",
    "X = np.array([x1, x2]).T\n",
    "pprint(recursive_split(X, y))"
   ]
  }
 ],
 "metadata": {
  "kernelspec": {
   "display_name": "Python 2",
   "language": "python",
   "name": "python2"
  },
  "language_info": {
   "codemirror_mode": {
    "name": "ipython",
    "version": 2
   },
   "file_extension": ".py",
   "mimetype": "text/x-python",
   "name": "python",
   "nbconvert_exporter": "python",
   "pygments_lexer": "ipython2",
   "version": "2.7.9"
  }
 },
 "nbformat": 4,
 "nbformat_minor": 2
}
